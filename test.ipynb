{
 "cells": [
  {
   "cell_type": "code",
   "execution_count": 1,
   "outputs": [],
   "source": [
    "# Importing the libraries\n",
    "import numpy as np\n",
    "import matplotlib.pyplot as plt\n"
   ],
   "metadata": {
    "collapsed": false,
    "ExecuteTime": {
     "end_time": "2024-06-23T08:17:04.038425Z",
     "start_time": "2024-06-23T08:16:57.523880Z"
    }
   },
   "id": "5c82c35ccae33545"
  },
  {
   "cell_type": "code",
   "execution_count": 1,
   "outputs": [
    {
     "name": "stdout",
     "output_type": "stream",
     "text": [
      "/bin/bash: warning: setlocale: LC_ALL: cannot change locale (en_US.UTF-8)\r\n",
      "/bin/bash: xtuner: command not found\r\n"
     ]
    }
   ],
   "source": [
    "!xtuner list-cfg -p internlm"
   ],
   "metadata": {
    "collapsed": false,
    "ExecuteTime": {
     "end_time": "2024-06-23T08:20:35.417110Z",
     "start_time": "2024-06-23T08:20:35.058669Z"
    }
   },
   "id": "e0091c786816474f"
  },
  {
   "cell_type": "code",
   "execution_count": null,
   "outputs": [],
   "source": [
    "xtuner copy-cfg internlm2_1_8b_qlora_alpaca_e3"
   ],
   "metadata": {
    "collapsed": false
   },
   "id": "19514cfd37a2f922"
  }
 ],
 "metadata": {
  "kernelspec": {
   "name": "xtuner0.1.17",
   "language": "python",
   "display_name": "xtuner0.1.17"
  },
  "language_info": {
   "codemirror_mode": {
    "name": "ipython",
    "version": 2
   },
   "file_extension": ".py",
   "mimetype": "text/x-python",
   "name": "python",
   "nbconvert_exporter": "python",
   "pygments_lexer": "ipython2",
   "version": "2.7.6"
  }
 },
 "nbformat": 4,
 "nbformat_minor": 5
}
